{
 "cells": [
  {
   "cell_type": "code",
   "execution_count": 2,
   "metadata": {
    "collapsed": false
   },
   "outputs": [],
   "source": [
    "from run import *"
   ]
  },
  {
   "cell_type": "code",
   "execution_count": 8,
   "metadata": {
    "collapsed": false
   },
   "outputs": [
    {
     "name": "stdout",
     "output_type": "stream",
     "text": [
      "Name: coffee\n"
     ]
    }
   ],
   "source": [
    "print('Name: '+user.name)"
   ]
  },
  {
   "cell_type": "code",
   "execution_count": 9,
   "metadata": {
    "collapsed": false
   },
   "outputs": [
    {
     "name": "stdout",
     "output_type": "stream",
     "text": [
      "Location: \n"
     ]
    }
   ],
   "source": [
    "print('Location: '+user.location)"
   ]
  },
  {
   "cell_type": "code",
   "execution_count": 11,
   "metadata": {
    "collapsed": false
   },
   "outputs": [
    {
     "name": "stdout",
     "output_type": "stream",
     "text": [
      "Friends: 128\n"
     ]
    }
   ],
   "source": [
    "print('Friends: '+str(user.friends_count))"
   ]
  },
  {
   "cell_type": "code",
   "execution_count": null,
   "metadata": {
    "collapsed": true
   },
   "outputs": [],
   "source": [
    "class StdOutListener(streamListener):\n",
    "    '''Handles data received from the stream'''\n",
    "    \n",
    "    def on_status(self,status):\n",
    "        #Print the text of the tweet\n",
    "        print(\"Tweet text: \"+status.text)\n",
    "        \n",
    "        #There are many options in the status object\n",
    "        #hastags can be very easily accessed\n",
    "        for hashtag in status.entries['hashtags']:\n",
    "            print(hashtag['text'])\n",
    "        \n",
    "        return true\n",
    "    \n",
    "    def on_error(self,status_code):\n",
    "        print(\"Got an error with status code: \"+str(status_code))\n",
    "        return True #To continue listening\n",
    "    "
   ]
  }
 ],
 "metadata": {
  "kernelspec": {
   "display_name": "Python 3",
   "language": "python",
   "name": "python3"
  },
  "language_info": {
   "codemirror_mode": {
    "name": "ipython",
    "version": 3
   },
   "file_extension": ".py",
   "mimetype": "text/x-python",
   "name": "python",
   "nbconvert_exporter": "python",
   "pygments_lexer": "ipython3",
   "version": "3.5.2"
  }
 },
 "nbformat": 4,
 "nbformat_minor": 1
}
